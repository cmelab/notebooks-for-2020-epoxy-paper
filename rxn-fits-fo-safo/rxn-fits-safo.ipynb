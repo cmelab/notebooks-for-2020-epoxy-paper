{
 "cells": [
  {
   "cell_type": "code",
   "execution_count": 1,
   "metadata": {},
   "outputs": [],
   "source": [
    "from common import *\n",
    "data_path = '/home/doryx/Storage/Downloads/data/tuningrxn/'"
   ]
  },
  {
   "cell_type": "code",
   "execution_count": null,
   "metadata": {},
   "outputs": [],
   "source": [
    "import signac\n",
    "import matplotlib.pyplot as plt\n",
    "import numpy as np\n",
    "import pandas as pd\n",
    "import matplotlib\n",
    "%matplotlib inline\n",
    "from scipy.signal import argrelextrema as argex\n",
    "import matplotlib.cm as cm\n",
    "import itertools\n",
    "\n",
    "            \n",
    "names={'iso':'Isothermal','lin_ramp':'Linear Ramp','step':'Step'}\n",
    "colors={'iso':'C0','lin_ramp':'C1','step':'C2'}\n",
    "markers={'iso':'s','lin_ramp':'P','step':'>'}\n",
    "linestyles={'iso':'-','lin_ramp':'--','step':'-.'}\n",
    "\n",
    "def init_project():\n",
    "    df_index = pd.DataFrame(project.index())\n",
    "    df_index = df_index.set_index(['_id'])\n",
    "    statepoints = {doc['_id']: doc['statepoint'] for doc in project.index()}\n",
    "    #print(statepoints)\n",
    "    df = pd.DataFrame(statepoints).T.join(df_index)\n",
    "    df = df.sort_values('T')\n",
    "    return df\n",
    "project = signac.get_project(data_path)\n",
    "df = init_project()\n",
    "df.head()"
   ]
  }
 ],
 "metadata": {
  "kernelspec": {
   "display_name": "Python 3",
   "language": "python",
   "name": "python3"
  },
  "language_info": {
   "codemirror_mode": {
    "name": "ipython",
    "version": 3
   },
   "file_extension": ".py",
   "mimetype": "text/x-python",
   "name": "python",
   "nbconvert_exporter": "python",
   "pygments_lexer": "ipython3",
   "version": "3.5.6"
  }
 },
 "nbformat": 4,
 "nbformat_minor": 4
}
